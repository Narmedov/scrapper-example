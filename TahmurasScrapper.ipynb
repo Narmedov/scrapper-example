{
 "cells": [
  {
   "cell_type": "code",
   "execution_count": 12,
   "metadata": {},
   "outputs": [],
   "source": [
    "import pandas as pd\n",
    "import re\n",
    "import requests\n",
    "from lxml import html\n",
    "import sys"
   ]
  },
  {
   "cell_type": "code",
   "execution_count": 13,
   "metadata": {},
   "outputs": [],
   "source": [
    "class Scrapper:\n",
    "    \n",
    "    def __init__(self, source, link_pattern, xpathHead, xpathPicUrl, xpathText, df, max_while = 1, max_links = 9):\n",
    "        self.source = source\n",
    "        self.link_pattern = link_pattern\n",
    "        self.xpathHead = xpathHead\n",
    "        self.xpathPicUrl = xpathPicUrl\n",
    "        self.xpathText = xpathText\n",
    "        self.df = df\n",
    "        self.max_while = max_while\n",
    "        self.max_links = max_links\n",
    "        self.link_storage = []\n",
    "        self.link_history = []\n",
    "        \n",
    "    def scrape(self, seed_link):\n",
    "        self.link_storage.append(seed_link)\n",
    "        i = 0\n",
    "        while True:\n",
    "            links_list_length = len(self.link_storage)\n",
    "            links = self.link_storage.copy()\n",
    "            for link in links:\n",
    "                if link not in self.link_history:\n",
    "                    seed_page = self.load(link)\n",
    "                    self.link_history.append(link)\n",
    "                    if seed_page:\n",
    "                        if self.is_needed(link):\n",
    "                            #print('yes')\n",
    "                            self.extract_info(seed_page)\n",
    "                        self.extract_links(seed_page)\n",
    "                if self.df.shape[0] > self.max_links:\n",
    "                    break\n",
    "            if links_list_length == len(self.link_storage):\n",
    "                 i += 1\n",
    "            if self.df.shape[0] > self.max_links or i > self.max_while:\n",
    "                break\n",
    "        return self.df\n",
    "            \n",
    "    def extract_links(self, page):\n",
    "        pattern = self.source + '[a-z0-9\\-\\_\\.\\/]+'\n",
    "        links = re.findall(pattern, page.text)\n",
    "        for link in links:\n",
    "            if not link in self.link_storage:\n",
    "                self.link_storage.append(link)\n",
    "    \n",
    "    def load(self, link):\n",
    "        response = requests.get(link)\n",
    "        self.link_history.append(link)\n",
    "        return response\n",
    "    \n",
    "    def is_needed(self, link):\n",
    "        pattern = '[a-z0-9\\-\\_\\.\\/]+' + self.link_pattern\n",
    "        return bool(re.search(pattern, link))\n",
    "        \n",
    "    def extract_info(self, page):\n",
    "        tree = html.fromstring(page.content.decode('UTF-8'))\n",
    "        head = tree.xpath(self.xpathHead)\n",
    "        pic_url = tree.xpath(self.xpathPicUrl)\n",
    "        text = tree.xpath(self.xpathText)\n",
    "        #print(pic_url)\n",
    "        data = [head, pic_url, text]\n",
    "        self.df = self.df.append(pd.DataFrame([data], columns=list(self.df.columns)), ignore_index=True)\n",
    "        #print('did extract_info')\n",
    "        #return res"
   ]
  },
  {
   "cell_type": "code",
   "execution_count": 14,
   "metadata": {},
   "outputs": [],
   "source": [
    "df = pd.DataFrame(columns = ['title', 'pic_url', 'text'])\n",
    "\n",
    "scrapper_kloop = Scrapper('https://kloop.kg', '/blog/',\n",
    "                           xpathHead = '//header/h1/text()',\n",
    "                           xpathPicUrl = '''(//div[@class=\"stk-mask\"]/img/@src)[1]''',\n",
    "                           xpathText = '''//p[@class='stk-reset']/text()''',\n",
    "                           df=df)"
   ]
  },
  {
   "cell_type": "code",
   "execution_count": null,
   "metadata": {},
   "outputs": [],
   "source": [
    "scrapper_kloop.scrape('https://kloop.kg/')"
   ]
  },
  {
   "cell_type": "code",
   "execution_count": null,
   "metadata": {},
   "outputs": [],
   "source": [
    "scrapper_kloop.df"
   ]
  },
  {
   "cell_type": "code",
   "execution_count": null,
   "metadata": {},
   "outputs": [],
   "source": []
  },
  {
   "cell_type": "code",
   "execution_count": null,
   "metadata": {},
   "outputs": [],
   "source": []
  }
 ],
 "metadata": {
  "kernelspec": {
   "display_name": "Python 3",
   "language": "python",
   "name": "python3"
  },
  "language_info": {
   "codemirror_mode": {
    "name": "ipython",
    "version": 3
   },
   "file_extension": ".py",
   "mimetype": "text/x-python",
   "name": "python",
   "nbconvert_exporter": "python",
   "pygments_lexer": "ipython3",
   "version": "3.7.1"
  }
 },
 "nbformat": 4,
 "nbformat_minor": 2
}
